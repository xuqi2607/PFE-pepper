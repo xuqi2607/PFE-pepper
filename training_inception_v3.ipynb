{
  "nbformat": 4,
  "nbformat_minor": 0,
  "metadata": {
    "colab": {
      "name": "training_inception_v3.ipynb",
      "provenance": [],
      "collapsed_sections": []
    },
    "kernelspec": {
      "name": "python3",
      "display_name": "Python 3"
    },
    "language_info": {
      "name": "python"
    },
    "accelerator": "GPU"
  },
  "cells": [
    {
      "cell_type": "code",
      "source": [
        "# connexion a l'espace Drive\n",
        "from google.colab import drive\n",
        "drive.mount('/content/drive')"
      ],
      "metadata": {
        "id": "Us0qQSSz3jX9"
      },
      "execution_count": null,
      "outputs": []
    },
    {
      "cell_type": "code",
      "source": [
        "# charger les bases de donnees depuis l'espace Drive\n",
        "from zipfile import ZipFile\n",
        "!unzip \"/content/drive/MyDrive/PFE/Projet_photo.zip\"\n",
        "!unzip '/content/drive/MyDrive/PFE/Photo_test.zip'"
      ],
      "metadata": {
        "id": "7DnApVqF3mRR"
      },
      "execution_count": null,
      "outputs": []
    },
    {
      "cell_type": "code",
      "source": [
        "# import de library \n",
        "import os\n",
        "import sys\n",
        "import glob\n",
        "import argparse\n",
        "import matplotlib.pyplot as plt\n",
        "import tensorflow as tf\n",
        "\n",
        "from keras import __version__\n",
        "from keras.applications.inception_v3 import InceptionV3, preprocess_input\n",
        " \n",
        "from keras.models import Model\n",
        "from keras.layers import Dense, GlobalAveragePooling2D, Input, BatchNormalization, Dropout\n",
        "from keras.preprocessing.image import ImageDataGenerator\n",
        "from tensorflow.keras.optimizers import SGD, Adam"
      ],
      "metadata": {
        "id": "-1RPUfvv6Hit"
      },
      "execution_count": null,
      "outputs": []
    },
    {
      "cell_type": "code",
      "execution_count": null,
      "metadata": {
        "colab": {
          "base_uri": "https://localhost:8080/"
        },
        "id": "s_dYSh2918kO",
        "outputId": "20a803e9-0595-4a6f-d78e-f9d013b9e4b5"
      },
      "outputs": [
        {
          "output_type": "stream",
          "name": "stdout",
          "text": [
            "Found 460 images belonging to 5 classes.\n",
            "Found 50 images belonging to 5 classes.\n",
            "Found 370 images belonging to 5 classes.\n"
          ]
        }
      ],
      "source": [
        "img_width, img_height = 224, 224  # taille d'image\n",
        "FC_SIZE = 1024             # nombre de noede de fully connected\n",
        "nb_classes = 5             # nombre de classe\n",
        "nb_epoch = 30             # nombre d'epochs\n",
        "batch_size = 32            # batch size\n",
        "\n",
        "# path de base de donnees\n",
        "pathphoto=\"Projet_photo\"\n",
        "testpath='/content/Photo_test'\n",
        "\n",
        "#generalisation des donnees de l'apprentissage, de la validation et du test\n",
        "image_generator = ImageDataGenerator(rescale=1/255,\n",
        "                    horizontal_flip=True,\n",
        "                    validation_split=0.1) \n",
        "\n",
        "train_dataset = image_generator.flow_from_directory(batch_size=batch_size,\n",
        "                            directory=pathphoto,\n",
        "                            shuffle=True,\n",
        "                            target_size=(img_height, img_width), \n",
        "                            subset=\"training\")\n",
        "\n",
        "validation_dataset = image_generator.flow_from_directory(batch_size=batch_size,\n",
        "                                directory=pathphoto,\n",
        "                                shuffle=True,\n",
        "                                target_size=(img_height, img_width), \n",
        "                                subset=\"validation\")\n",
        "\n",
        "image_gen = ImageDataGenerator(rescale=1/255) \n",
        "test_dataset = image_gen.flow_from_directory(batch_size=batch_size,\n",
        "                            directory=testpath,\n",
        "                            shuffle=True,\n",
        "                            target_size=(img_height, img_width), \n",
        "                            subset=\"training\")"
      ]
    },
    {
      "cell_type": "code",
      "source": [
        "# creation de model\n",
        "def create_model(nb_classes=5):\n",
        "  input_shape = (224, 224, 3)\n",
        "  inputs = Input(shape=input_shape)\n",
        "  pretrained_model = InceptionV3(weights='imagenet', include_top=False)\n",
        "  x = pretrained_model(inputs)\n",
        "  x = GlobalAveragePooling2D()(x)\n",
        "  x = Dense(FC_SIZE, activation='relu')(x) # nouveau couche de FC\n",
        "  x = BatchNormalization(momentum=0.9,epsilon=0.0001)(x)\n",
        "  x = Dropout(0.5)(x)\n",
        "  x = Dense(256, activation='relu')(x)\n",
        "  x = BatchNormalization(momentum=0.9,epsilon=0.0001)(x)\n",
        "  x = Dropout(0.5)(x)\n",
        "  outputs = Dense(nb_classes, activation='sigmoid')(x)\n",
        "\n",
        "  model = Model(inputs, outputs)\n",
        "  return model"
      ],
      "metadata": {
        "id": "1qeKnsDv7YvH"
      },
      "execution_count": null,
      "outputs": []
    },
    {
      "cell_type": "code",
      "source": [
        "model=create_model()"
      ],
      "metadata": {
        "id": "IYN2q2tg-etJ"
      },
      "execution_count": null,
      "outputs": []
    },
    {
      "cell_type": "code",
      "source": [
        "model.layers[1].trainable = False # mettre la couche de inception v3 non-entrainable\n",
        "print(\"-------------------------------------------------\")\n",
        "for layer in model.layers:\n",
        "    print(layer.name, ' is trainable? ', layer.trainable)"
      ],
      "metadata": {
        "colab": {
          "base_uri": "https://localhost:8080/"
        },
        "id": "hJyJZCVJ_9n5",
        "outputId": "13c1f62f-943d-4631-d61c-5d656c3a57d8"
      },
      "execution_count": null,
      "outputs": [
        {
          "output_type": "stream",
          "name": "stdout",
          "text": [
            "-------------------------------------------------\n",
            "input_1  is trainable?  True\n",
            "inception_v3  is trainable?  False\n",
            "global_average_pooling2d  is trainable?  True\n",
            "dense  is trainable?  True\n",
            "batch_normalization_94  is trainable?  True\n",
            "dropout  is trainable?  True\n",
            "dense_1  is trainable?  True\n",
            "batch_normalization_95  is trainable?  True\n",
            "dropout_1  is trainable?  True\n",
            "dense_2  is trainable?  True\n"
          ]
        }
      ]
    },
    {
      "cell_type": "code",
      "source": [
        "opt = SGD(learning_rate=0.0001, momentum=0.9) #utiliser sgd pour l'optimization\n",
        "model.compile(optimizer=opt,\n",
        "      loss=\"categorical_crossentropy\",\n",
        "      metrics=['accuracy'])\n",
        "model.summary()"
      ],
      "metadata": {
        "colab": {
          "base_uri": "https://localhost:8080/"
        },
        "id": "M36rMO2FG5lI",
        "outputId": "0e98be3c-3a44-4532-e1f6-9fa8a96e6f36"
      },
      "execution_count": null,
      "outputs": [
        {
          "output_type": "stream",
          "name": "stdout",
          "text": [
            "Model: \"model\"\n",
            "_________________________________________________________________\n",
            " Layer (type)                Output Shape              Param #   \n",
            "=================================================================\n",
            " input_1 (InputLayer)        [(None, 224, 224, 3)]     0         \n",
            "                                                                 \n",
            " inception_v3 (Functional)   (None, None, None, 2048)  21802784  \n",
            "                                                                 \n",
            " global_average_pooling2d (G  (None, 2048)             0         \n",
            " lobalAveragePooling2D)                                          \n",
            "                                                                 \n",
            " dense (Dense)               (None, 1024)              2098176   \n",
            "                                                                 \n",
            " batch_normalization_94 (Bat  (None, 1024)             4096      \n",
            " chNormalization)                                                \n",
            "                                                                 \n",
            " dropout (Dropout)           (None, 1024)              0         \n",
            "                                                                 \n",
            " dense_1 (Dense)             (None, 256)               262400    \n",
            "                                                                 \n",
            " batch_normalization_95 (Bat  (None, 256)              1024      \n",
            " chNormalization)                                                \n",
            "                                                                 \n",
            " dropout_1 (Dropout)         (None, 256)               0         \n",
            "                                                                 \n",
            " dense_2 (Dense)             (None, 5)                 1285      \n",
            "                                                                 \n",
            "=================================================================\n",
            "Total params: 24,169,765\n",
            "Trainable params: 2,364,421\n",
            "Non-trainable params: 21,805,344\n",
            "_________________________________________________________________\n"
          ]
        }
      ]
    },
    {
      "cell_type": "code",
      "source": [
        "with tf.device('/GPU:0'):\n",
        "    history = model.fit(train_dataset, epochs=100, validation_data=validation_dataset)"
      ],
      "metadata": {
        "colab": {
          "base_uri": "https://localhost:8080/"
        },
        "id": "mJfC99H7BcFl",
        "outputId": "1d94802f-13ff-414b-8388-1002d73a8c67"
      },
      "execution_count": null,
      "outputs": [
        {
          "output_type": "stream",
          "name": "stdout",
          "text": [
            "Epoch 1/100\n",
            "15/15 [==============================] - 8s 208ms/step - loss: 2.5426 - accuracy: 0.2522 - val_loss: 1.6318 - val_accuracy: 0.2400\n",
            "Epoch 2/100\n",
            "15/15 [==============================] - 1s 88ms/step - loss: 2.4030 - accuracy: 0.2435 - val_loss: 1.4746 - val_accuracy: 0.3400\n",
            "Epoch 3/100\n",
            "15/15 [==============================] - 1s 89ms/step - loss: 1.9737 - accuracy: 0.3239 - val_loss: 1.3516 - val_accuracy: 0.4000\n",
            "Epoch 4/100\n",
            "15/15 [==============================] - 1s 89ms/step - loss: 1.8590 - accuracy: 0.3891 - val_loss: 1.1811 - val_accuracy: 0.5400\n",
            "Epoch 5/100\n",
            "15/15 [==============================] - 1s 88ms/step - loss: 1.5757 - accuracy: 0.4326 - val_loss: 1.0846 - val_accuracy: 0.5800\n",
            "Epoch 6/100\n",
            "15/15 [==============================] - 1s 88ms/step - loss: 1.3955 - accuracy: 0.5000 - val_loss: 0.9661 - val_accuracy: 0.6200\n",
            "Epoch 7/100\n",
            "15/15 [==============================] - 1s 88ms/step - loss: 1.3614 - accuracy: 0.4978 - val_loss: 0.9340 - val_accuracy: 0.6200\n",
            "Epoch 8/100\n",
            "15/15 [==============================] - 1s 89ms/step - loss: 1.3071 - accuracy: 0.5348 - val_loss: 0.8841 - val_accuracy: 0.6400\n",
            "Epoch 9/100\n",
            "15/15 [==============================] - 1s 89ms/step - loss: 1.1766 - accuracy: 0.5783 - val_loss: 0.8152 - val_accuracy: 0.6400\n",
            "Epoch 10/100\n",
            "15/15 [==============================] - 1s 88ms/step - loss: 1.0586 - accuracy: 0.6348 - val_loss: 0.7229 - val_accuracy: 0.7200\n",
            "Epoch 11/100\n",
            "15/15 [==============================] - 1s 92ms/step - loss: 1.0148 - accuracy: 0.6326 - val_loss: 0.7016 - val_accuracy: 0.6800\n",
            "Epoch 12/100\n",
            "15/15 [==============================] - 1s 89ms/step - loss: 0.9222 - accuracy: 0.6565 - val_loss: 0.6807 - val_accuracy: 0.7200\n",
            "Epoch 13/100\n",
            "15/15 [==============================] - 1s 88ms/step - loss: 0.8523 - accuracy: 0.6913 - val_loss: 0.6874 - val_accuracy: 0.7000\n",
            "Epoch 14/100\n",
            "15/15 [==============================] - 1s 90ms/step - loss: 0.8822 - accuracy: 0.6739 - val_loss: 0.5834 - val_accuracy: 0.7600\n",
            "Epoch 15/100\n",
            "15/15 [==============================] - 1s 88ms/step - loss: 0.7460 - accuracy: 0.7326 - val_loss: 0.5959 - val_accuracy: 0.7400\n",
            "Epoch 16/100\n",
            "15/15 [==============================] - 1s 89ms/step - loss: 0.6550 - accuracy: 0.7435 - val_loss: 0.5382 - val_accuracy: 0.8200\n",
            "Epoch 17/100\n",
            "15/15 [==============================] - 1s 89ms/step - loss: 0.8167 - accuracy: 0.7043 - val_loss: 0.5236 - val_accuracy: 0.7800\n",
            "Epoch 18/100\n",
            "15/15 [==============================] - 1s 88ms/step - loss: 0.6879 - accuracy: 0.7522 - val_loss: 0.5552 - val_accuracy: 0.7800\n",
            "Epoch 19/100\n",
            "15/15 [==============================] - 1s 89ms/step - loss: 0.6613 - accuracy: 0.7478 - val_loss: 0.4707 - val_accuracy: 0.8200\n",
            "Epoch 20/100\n",
            "15/15 [==============================] - 1s 89ms/step - loss: 0.6156 - accuracy: 0.7783 - val_loss: 0.4746 - val_accuracy: 0.7800\n",
            "Epoch 21/100\n",
            "15/15 [==============================] - 1s 91ms/step - loss: 0.5771 - accuracy: 0.7913 - val_loss: 0.4916 - val_accuracy: 0.8400\n",
            "Epoch 22/100\n",
            "15/15 [==============================] - 1s 90ms/step - loss: 0.5465 - accuracy: 0.8261 - val_loss: 0.4562 - val_accuracy: 0.8000\n",
            "Epoch 23/100\n",
            "15/15 [==============================] - 1s 89ms/step - loss: 0.5182 - accuracy: 0.8152 - val_loss: 0.4288 - val_accuracy: 0.8000\n",
            "Epoch 24/100\n",
            "15/15 [==============================] - 1s 89ms/step - loss: 0.5361 - accuracy: 0.8065 - val_loss: 0.4613 - val_accuracy: 0.8200\n",
            "Epoch 25/100\n",
            "15/15 [==============================] - 1s 88ms/step - loss: 0.4677 - accuracy: 0.8457 - val_loss: 0.3756 - val_accuracy: 0.8400\n",
            "Epoch 26/100\n",
            "15/15 [==============================] - 1s 88ms/step - loss: 0.4986 - accuracy: 0.8152 - val_loss: 0.4319 - val_accuracy: 0.8200\n",
            "Epoch 27/100\n",
            "15/15 [==============================] - 1s 88ms/step - loss: 0.5091 - accuracy: 0.8174 - val_loss: 0.3614 - val_accuracy: 0.8400\n",
            "Epoch 28/100\n",
            "15/15 [==============================] - 1s 86ms/step - loss: 0.4533 - accuracy: 0.8435 - val_loss: 0.4307 - val_accuracy: 0.8000\n",
            "Epoch 29/100\n",
            "15/15 [==============================] - 1s 88ms/step - loss: 0.4574 - accuracy: 0.8217 - val_loss: 0.3602 - val_accuracy: 0.9000\n",
            "Epoch 30/100\n",
            "15/15 [==============================] - 1s 87ms/step - loss: 0.4487 - accuracy: 0.8304 - val_loss: 0.4025 - val_accuracy: 0.8800\n",
            "Epoch 31/100\n",
            "15/15 [==============================] - 1s 90ms/step - loss: 0.4319 - accuracy: 0.8522 - val_loss: 0.3891 - val_accuracy: 0.8600\n",
            "Epoch 32/100\n",
            "15/15 [==============================] - 1s 88ms/step - loss: 0.4135 - accuracy: 0.8457 - val_loss: 0.3466 - val_accuracy: 0.9200\n",
            "Epoch 33/100\n",
            "15/15 [==============================] - 1s 88ms/step - loss: 0.4281 - accuracy: 0.8609 - val_loss: 0.3286 - val_accuracy: 0.9000\n",
            "Epoch 34/100\n",
            "15/15 [==============================] - 1s 93ms/step - loss: 0.3985 - accuracy: 0.8478 - val_loss: 0.3219 - val_accuracy: 0.9400\n",
            "Epoch 35/100\n",
            "15/15 [==============================] - 1s 88ms/step - loss: 0.4005 - accuracy: 0.8565 - val_loss: 0.3287 - val_accuracy: 0.9200\n",
            "Epoch 36/100\n",
            "15/15 [==============================] - 1s 88ms/step - loss: 0.3504 - accuracy: 0.8826 - val_loss: 0.2727 - val_accuracy: 0.9600\n",
            "Epoch 37/100\n",
            "15/15 [==============================] - 1s 90ms/step - loss: 0.3882 - accuracy: 0.8674 - val_loss: 0.3629 - val_accuracy: 0.8600\n",
            "Epoch 38/100\n",
            "15/15 [==============================] - 1s 88ms/step - loss: 0.3442 - accuracy: 0.8696 - val_loss: 0.3130 - val_accuracy: 0.9400\n",
            "Epoch 39/100\n",
            "15/15 [==============================] - 1s 93ms/step - loss: 0.3734 - accuracy: 0.8609 - val_loss: 0.3022 - val_accuracy: 0.9400\n",
            "Epoch 40/100\n",
            "15/15 [==============================] - 1s 87ms/step - loss: 0.3173 - accuracy: 0.8935 - val_loss: 0.2990 - val_accuracy: 0.9400\n",
            "Epoch 41/100\n",
            "15/15 [==============================] - 1s 89ms/step - loss: 0.3777 - accuracy: 0.8609 - val_loss: 0.3316 - val_accuracy: 0.9200\n",
            "Epoch 42/100\n",
            "15/15 [==============================] - 1s 88ms/step - loss: 0.2874 - accuracy: 0.9043 - val_loss: 0.3140 - val_accuracy: 0.9000\n",
            "Epoch 43/100\n",
            "15/15 [==============================] - 1s 88ms/step - loss: 0.3150 - accuracy: 0.9043 - val_loss: 0.3402 - val_accuracy: 0.9400\n",
            "Epoch 44/100\n",
            "15/15 [==============================] - 1s 88ms/step - loss: 0.2888 - accuracy: 0.9022 - val_loss: 0.2706 - val_accuracy: 0.9600\n",
            "Epoch 45/100\n",
            "15/15 [==============================] - 1s 90ms/step - loss: 0.3562 - accuracy: 0.8717 - val_loss: 0.3801 - val_accuracy: 0.8600\n",
            "Epoch 46/100\n",
            "15/15 [==============================] - 1s 89ms/step - loss: 0.2533 - accuracy: 0.9130 - val_loss: 0.3130 - val_accuracy: 0.8800\n",
            "Epoch 47/100\n",
            "15/15 [==============================] - 1s 89ms/step - loss: 0.2555 - accuracy: 0.9196 - val_loss: 0.3552 - val_accuracy: 0.8600\n",
            "Epoch 48/100\n",
            "15/15 [==============================] - 1s 88ms/step - loss: 0.3081 - accuracy: 0.8891 - val_loss: 0.2664 - val_accuracy: 0.9200\n",
            "Epoch 49/100\n",
            "15/15 [==============================] - 1s 88ms/step - loss: 0.3305 - accuracy: 0.8891 - val_loss: 0.2697 - val_accuracy: 0.9200\n",
            "Epoch 50/100\n",
            "15/15 [==============================] - 1s 89ms/step - loss: 0.2944 - accuracy: 0.8891 - val_loss: 0.2577 - val_accuracy: 0.9600\n",
            "Epoch 51/100\n",
            "15/15 [==============================] - 1s 88ms/step - loss: 0.2504 - accuracy: 0.9152 - val_loss: 0.2557 - val_accuracy: 0.9600\n",
            "Epoch 52/100\n",
            "15/15 [==============================] - 1s 90ms/step - loss: 0.2592 - accuracy: 0.9109 - val_loss: 0.2945 - val_accuracy: 0.9000\n",
            "Epoch 53/100\n",
            "15/15 [==============================] - 1s 89ms/step - loss: 0.2514 - accuracy: 0.9043 - val_loss: 0.2389 - val_accuracy: 0.9400\n",
            "Epoch 54/100\n",
            "15/15 [==============================] - 2s 100ms/step - loss: 0.2288 - accuracy: 0.9174 - val_loss: 0.2670 - val_accuracy: 0.9200\n",
            "Epoch 55/100\n",
            "15/15 [==============================] - 1s 88ms/step - loss: 0.2744 - accuracy: 0.8891 - val_loss: 0.2233 - val_accuracy: 0.9800\n",
            "Epoch 56/100\n",
            "15/15 [==============================] - 1s 88ms/step - loss: 0.2462 - accuracy: 0.9217 - val_loss: 0.2810 - val_accuracy: 0.9200\n",
            "Epoch 57/100\n",
            "15/15 [==============================] - 1s 87ms/step - loss: 0.2498 - accuracy: 0.9174 - val_loss: 0.2541 - val_accuracy: 0.9400\n",
            "Epoch 58/100\n",
            "15/15 [==============================] - 1s 88ms/step - loss: 0.2418 - accuracy: 0.9130 - val_loss: 0.2773 - val_accuracy: 0.9200\n",
            "Epoch 59/100\n",
            "15/15 [==============================] - 1s 87ms/step - loss: 0.2208 - accuracy: 0.9239 - val_loss: 0.2546 - val_accuracy: 0.9400\n",
            "Epoch 60/100\n",
            "15/15 [==============================] - 1s 86ms/step - loss: 0.2614 - accuracy: 0.8957 - val_loss: 0.2599 - val_accuracy: 0.9400\n",
            "Epoch 61/100\n",
            "15/15 [==============================] - 1s 88ms/step - loss: 0.2058 - accuracy: 0.9391 - val_loss: 0.2110 - val_accuracy: 0.9600\n",
            "Epoch 62/100\n",
            "15/15 [==============================] - 1s 88ms/step - loss: 0.2808 - accuracy: 0.9043 - val_loss: 0.2089 - val_accuracy: 0.9400\n",
            "Epoch 63/100\n",
            "15/15 [==============================] - 1s 87ms/step - loss: 0.2165 - accuracy: 0.9109 - val_loss: 0.1905 - val_accuracy: 0.9800\n",
            "Epoch 64/100\n",
            "15/15 [==============================] - 1s 87ms/step - loss: 0.1908 - accuracy: 0.9413 - val_loss: 0.2475 - val_accuracy: 0.9400\n",
            "Epoch 65/100\n",
            "15/15 [==============================] - 1s 90ms/step - loss: 0.2080 - accuracy: 0.9370 - val_loss: 0.2534 - val_accuracy: 0.9600\n",
            "Epoch 66/100\n",
            "15/15 [==============================] - 1s 87ms/step - loss: 0.2186 - accuracy: 0.9239 - val_loss: 0.2648 - val_accuracy: 0.9400\n",
            "Epoch 67/100\n",
            "15/15 [==============================] - 1s 88ms/step - loss: 0.1832 - accuracy: 0.9478 - val_loss: 0.2520 - val_accuracy: 0.9400\n",
            "Epoch 68/100\n",
            "15/15 [==============================] - 1s 89ms/step - loss: 0.1810 - accuracy: 0.9413 - val_loss: 0.2795 - val_accuracy: 0.9000\n",
            "Epoch 69/100\n",
            "15/15 [==============================] - 1s 88ms/step - loss: 0.2033 - accuracy: 0.9391 - val_loss: 0.2526 - val_accuracy: 0.9000\n",
            "Epoch 70/100\n",
            "15/15 [==============================] - 1s 87ms/step - loss: 0.1905 - accuracy: 0.9348 - val_loss: 0.2238 - val_accuracy: 0.9000\n",
            "Epoch 71/100\n",
            "15/15 [==============================] - 1s 88ms/step - loss: 0.1815 - accuracy: 0.9435 - val_loss: 0.2634 - val_accuracy: 0.9200\n",
            "Epoch 72/100\n",
            "15/15 [==============================] - 1s 88ms/step - loss: 0.1741 - accuracy: 0.9348 - val_loss: 0.2131 - val_accuracy: 0.9800\n",
            "Epoch 73/100\n",
            "15/15 [==============================] - 1s 88ms/step - loss: 0.1569 - accuracy: 0.9565 - val_loss: 0.2251 - val_accuracy: 0.9400\n",
            "Epoch 74/100\n",
            "15/15 [==============================] - 1s 88ms/step - loss: 0.1634 - accuracy: 0.9500 - val_loss: 0.2170 - val_accuracy: 0.9600\n",
            "Epoch 75/100\n",
            "15/15 [==============================] - 1s 99ms/step - loss: 0.1884 - accuracy: 0.9370 - val_loss: 0.2446 - val_accuracy: 0.9200\n",
            "Epoch 76/100\n",
            "15/15 [==============================] - 1s 89ms/step - loss: 0.1779 - accuracy: 0.9435 - val_loss: 0.2212 - val_accuracy: 0.9200\n",
            "Epoch 77/100\n",
            "15/15 [==============================] - 1s 86ms/step - loss: 0.1503 - accuracy: 0.9522 - val_loss: 0.2727 - val_accuracy: 0.8800\n",
            "Epoch 78/100\n",
            "15/15 [==============================] - 1s 87ms/step - loss: 0.1589 - accuracy: 0.9457 - val_loss: 0.2353 - val_accuracy: 0.9200\n",
            "Epoch 79/100\n",
            "15/15 [==============================] - 1s 90ms/step - loss: 0.1677 - accuracy: 0.9435 - val_loss: 0.2478 - val_accuracy: 0.9200\n",
            "Epoch 80/100\n",
            "15/15 [==============================] - 1s 91ms/step - loss: 0.1710 - accuracy: 0.9543 - val_loss: 0.2333 - val_accuracy: 0.9000\n",
            "Epoch 81/100\n",
            "15/15 [==============================] - 1s 88ms/step - loss: 0.1738 - accuracy: 0.9391 - val_loss: 0.2263 - val_accuracy: 0.9200\n",
            "Epoch 82/100\n",
            "15/15 [==============================] - 1s 88ms/step - loss: 0.1555 - accuracy: 0.9500 - val_loss: 0.1781 - val_accuracy: 0.9600\n",
            "Epoch 83/100\n",
            "15/15 [==============================] - 1s 89ms/step - loss: 0.1649 - accuracy: 0.9457 - val_loss: 0.2073 - val_accuracy: 0.9400\n",
            "Epoch 84/100\n",
            "15/15 [==============================] - 1s 86ms/step - loss: 0.1666 - accuracy: 0.9435 - val_loss: 0.2433 - val_accuracy: 0.9000\n",
            "Epoch 85/100\n",
            "15/15 [==============================] - 1s 88ms/step - loss: 0.1317 - accuracy: 0.9500 - val_loss: 0.1743 - val_accuracy: 0.9600\n",
            "Epoch 86/100\n",
            "15/15 [==============================] - 1s 89ms/step - loss: 0.1901 - accuracy: 0.9391 - val_loss: 0.2230 - val_accuracy: 0.9200\n",
            "Epoch 87/100\n",
            "15/15 [==============================] - 1s 87ms/step - loss: 0.1556 - accuracy: 0.9543 - val_loss: 0.2205 - val_accuracy: 0.9400\n",
            "Epoch 88/100\n",
            "15/15 [==============================] - 1s 89ms/step - loss: 0.1799 - accuracy: 0.9435 - val_loss: 0.2363 - val_accuracy: 0.9200\n",
            "Epoch 89/100\n",
            "15/15 [==============================] - 1s 87ms/step - loss: 0.1266 - accuracy: 0.9609 - val_loss: 0.2239 - val_accuracy: 0.9600\n",
            "Epoch 90/100\n",
            "15/15 [==============================] - 1s 93ms/step - loss: 0.1631 - accuracy: 0.9435 - val_loss: 0.2167 - val_accuracy: 0.9200\n",
            "Epoch 91/100\n",
            "15/15 [==============================] - 1s 88ms/step - loss: 0.1513 - accuracy: 0.9435 - val_loss: 0.1895 - val_accuracy: 0.9200\n",
            "Epoch 92/100\n",
            "15/15 [==============================] - 1s 89ms/step - loss: 0.1680 - accuracy: 0.9391 - val_loss: 0.2185 - val_accuracy: 0.9200\n",
            "Epoch 93/100\n",
            "15/15 [==============================] - 1s 88ms/step - loss: 0.1262 - accuracy: 0.9630 - val_loss: 0.2220 - val_accuracy: 0.9200\n",
            "Epoch 94/100\n",
            "15/15 [==============================] - 1s 88ms/step - loss: 0.1464 - accuracy: 0.9522 - val_loss: 0.2108 - val_accuracy: 0.9200\n",
            "Epoch 95/100\n",
            "15/15 [==============================] - 1s 87ms/step - loss: 0.1799 - accuracy: 0.9283 - val_loss: 0.1987 - val_accuracy: 0.9200\n",
            "Epoch 96/100\n",
            "15/15 [==============================] - 1s 89ms/step - loss: 0.1691 - accuracy: 0.9413 - val_loss: 0.2135 - val_accuracy: 0.9400\n",
            "Epoch 97/100\n",
            "15/15 [==============================] - 1s 88ms/step - loss: 0.1195 - accuracy: 0.9674 - val_loss: 0.2400 - val_accuracy: 0.9000\n",
            "Epoch 98/100\n",
            "15/15 [==============================] - 1s 88ms/step - loss: 0.1511 - accuracy: 0.9435 - val_loss: 0.2428 - val_accuracy: 0.9000\n",
            "Epoch 99/100\n",
            "15/15 [==============================] - 1s 86ms/step - loss: 0.1496 - accuracy: 0.9587 - val_loss: 0.2220 - val_accuracy: 0.9200\n",
            "Epoch 100/100\n",
            "15/15 [==============================] - 1s 89ms/step - loss: 0.1454 - accuracy: 0.9565 - val_loss: 0.2208 - val_accuracy: 0.9000\n"
          ]
        }
      ]
    },
    {
      "cell_type": "code",
      "source": [
        "epochs=60\n",
        "acc = history.history['accuracy']\n",
        "val_acc = history.history['val_accuracy']\n",
        "\n",
        "loss = history.history['loss']\n",
        "val_loss = history.history['val_loss']\n",
        "\n",
        "# epochs_range = range(epochs)\n",
        "\n",
        "plt.figure(figsize=(20, 8))\n",
        "plt.subplot(1, 2, 1)\n",
        "plt.plot(acc[:epochs], label='Training Accuracy')\n",
        "plt.plot(val_acc[:epochs], label='Validation Accuracy')\n",
        "plt.legend(loc='lower right')\n",
        "plt.title('Training and Validation Accuracy')\n",
        "\n",
        "plt.subplot(1, 2, 2)\n",
        "plt.plot(loss[:epochs], label='Training Loss')\n",
        "plt.plot(val_loss[:epochs], label='Validation Loss')\n",
        "plt.legend(loc='upper right')\n",
        "plt.title('Training and Validation Loss')\n",
        "plt.show()"
      ],
      "metadata": {
        "colab": {
          "base_uri": "https://localhost:8080/",
          "height": 519
        },
        "id": "J3eU5zPc_mEu",
        "outputId": "d5d4a848-312d-45f7-8e54-41f4f8f9d97d"
      },
      "execution_count": null,
      "outputs": [
        {
          "output_type": "display_data",
          "data": {
            "image/png": "[encoded data removed]",
            "text/plain": [
              "<Figure size 1440x576 with 2 Axes>"
            ]
          },
          "metadata": {
            "needs_background": "light"
          }
        }
      ]
    },
    {
      "cell_type": "code",
      "source": [
        "model.evaluate(test_dataset)"
      ],
      "metadata": {
        "colab": {
          "base_uri": "https://localhost:8080/"
        },
        "id": "gDadvQB5GtpR",
        "outputId": "2e373bca-7831-4c53-d994-4f91b40e8fe9"
      },
      "execution_count": null,
      "outputs": [
        {
          "output_type": "stream",
          "name": "stdout",
          "text": [
            "12/12 [==============================] - 1s 71ms/step - loss: 0.6203 - accuracy: 0.8054\n"
          ]
        },
        {
          "output_type": "execute_result",
          "data": {
            "text/plain": [
              "[0.6203057169914246, 0.8054053783416748]"
            ]
          },
          "metadata": {},
          "execution_count": 11
        }
      ]
    },
    {
      "cell_type": "code",
      "source": [
        "model.save('/content/drive/MyDrive/PFE/model_inception_v3/my_model')"
      ],
      "metadata": {
        "colab": {
          "base_uri": "https://localhost:8080/"
        },
        "id": "KAcb3AgKOBuz",
        "outputId": "210a03e8-7924-4532-9c17-83a4f92d14c5"
      },
      "execution_count": null,
      "outputs": [
        {
          "output_type": "stream",
          "name": "stdout",
          "text": [
            "INFO:tensorflow:Assets written to: /content/drive/MyDrive/PFE/model_inception_v3/assets\n"
          ]
        }
      ]
    }
  ]
}